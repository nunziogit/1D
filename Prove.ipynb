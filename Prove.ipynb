{
 "cells": [
  {
   "cell_type": "code",
   "execution_count": 72,
   "id": "08b1bcf5-8364-4f32-85b5-9ecea6e8b4eb",
   "metadata": {},
   "outputs": [
    {
     "data": {
      "text/plain": [
       "0.11"
      ]
     },
     "execution_count": 72,
     "metadata": {},
     "output_type": "execute_result"
    }
   ],
   "source": [
    "nx = 5\n",
    "gravit = 9.81\n",
    "hinitl = 1.0\n",
    "hinitr = 0.5\n",
    "uinitl = 2.0\n",
    "uinitr = 3.5\n",
    "dx = 0.25\n",
    "dt = 0.11"
   ]
  },
  {
   "cell_type": "code",
   "execution_count": 73,
   "id": "05a3e13b-9cca-44d3-ab91-c6b977922ce6",
   "metadata": {},
   "outputs": [],
   "source": [
    "h     = zeros(Float64, nx);     u = zeros(Float64, nx);"
   ]
  },
  {
   "cell_type": "code",
   "execution_count": 74,
   "id": "73b54ca6-a0ac-4941-9dfb-8844d51fa283",
   "metadata": {},
   "outputs": [],
   "source": [
    "for i in 1:nx\n",
    "    h[i] , u[i] =  i < (nx ÷ 2) ? (hinitl, uinitl) : (hinitr, uinitr) \n",
    "end"
   ]
  },
  {
   "cell_type": "code",
   "execution_count": 75,
   "id": "fcb51cef-64a3-45f0-9728-4ce67ed27b69",
   "metadata": {},
   "outputs": [
    {
     "data": {
      "text/plain": [
       "([1.0, 0.5, 0.5, 0.5, 0.5], [2.0, 3.5, 3.5, 3.5, 3.5])"
      ]
     },
     "execution_count": 75,
     "metadata": {},
     "output_type": "execute_result"
    }
   ],
   "source": [
    "@views h , @views u"
   ]
  },
  {
   "cell_type": "code",
   "execution_count": 76,
   "id": "2e6f2909-a70a-41ce-80b8-4f1205e7e0b1",
   "metadata": {},
   "outputs": [
    {
     "data": {
      "text/plain": [
       "2-element Vector{Float64}:\n",
       " 0.0\n",
       " 0.0"
      ]
     },
     "execution_count": 76,
     "metadata": {},
     "output_type": "execute_result"
    }
   ],
   "source": [
    "flux  = zeros(Float64, 2, nx-1)\n",
    "fl    = zeros(Float64, 2)\n",
    "fr    = zeros(Float64, 2)"
   ]
  },
  {
   "cell_type": "code",
   "execution_count": 77,
   "id": "b464a8f4-5b31-491d-9286-6c3f09e81fa1",
   "metadata": {},
   "outputs": [],
   "source": [
    "for i ∈ 1:nx-1\n",
    "\thl = h[i]\n",
    "\tul = u[i]\n",
    "\tql = hl * ul\n",
    "\thr = h[i+1]\n",
    "\tur = u[i+1]\n",
    "\tqr = hr * ur\n",
    "\tfl[1] = hl * ul\n",
    "\tfl[2] = ul^2 * hl + 0.5*gravit * hl^2\n",
    "\tfr[1] = hr * ur\n",
    "\tfr[2] = ur^2 * hr + 0.5*gravit * hr^2\n",
    "\tflux[1, i] = 0.5 * (fl[1] + fr[1]) - 0.5 * dx / dt * (hr - hl)\n",
    "\tflux[2, i] = 0.5 * (fl[2] + fr[2]) - 0.5 * dx / dt * (qr - ql)\n",
    "end"
   ]
  },
  {
   "cell_type": "code",
   "execution_count": 78,
   "id": "ea1b9145-9e7c-49f3-a859-ff5cbb585406",
   "metadata": {},
   "outputs": [
    {
     "data": {
      "text/plain": [
       "2×4 Matrix{Float64}:\n",
       " 2.44318  1.75     1.75     1.75\n",
       " 8.41222  7.35125  7.35125  7.35125"
      ]
     },
     "execution_count": 78,
     "metadata": {},
     "output_type": "execute_result"
    }
   ],
   "source": [
    "@views flux"
   ]
  },
  {
   "cell_type": "code",
   "execution_count": 79,
   "id": "8496ee14-6064-491d-9fab-b6b97b3f8695",
   "metadata": {},
   "outputs": [
    {
     "data": {
      "text/plain": [
       "3-element Vector{Float64}:\n",
       " -0.6931818181818183\n",
       "  0.0\n",
       "  0.0"
      ]
     },
     "execution_count": 79,
     "metadata": {},
     "output_type": "execute_result"
    }
   ],
   "source": [
    "diff(flux[1,:])"
   ]
  },
  {
   "cell_type": "code",
   "execution_count": 80,
   "id": "850631cd-9779-4569-a5fd-f985d2b14ab5",
   "metadata": {},
   "outputs": [
    {
     "data": {
      "text/plain": [
       "3-element view(::Vector{Float64}, 2:4) with eltype Float64:\n",
       " 0.805\n",
       " 0.5\n",
       " 0.5"
      ]
     },
     "execution_count": 80,
     "metadata": {},
     "output_type": "execute_result"
    }
   ],
   "source": [
    "h[2:end-1] .-= dt ./ dx .* (diff(flux[1,:]))"
   ]
  },
  {
   "cell_type": "code",
   "execution_count": null,
   "id": "8748ec9a-cad1-4c0e-81c3-7bef773e3749",
   "metadata": {},
   "outputs": [],
   "source": []
  }
 ],
 "metadata": {
  "kernelspec": {
   "display_name": "Julia 1.11.1",
   "language": "julia",
   "name": "julia-1.11"
  },
  "language_info": {
   "file_extension": ".jl",
   "mimetype": "application/julia",
   "name": "julia",
   "version": "1.11.1"
  }
 },
 "nbformat": 4,
 "nbformat_minor": 5
}
